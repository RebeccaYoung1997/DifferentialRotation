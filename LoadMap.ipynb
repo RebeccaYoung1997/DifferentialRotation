{
 "cells": [
  {
   "cell_type": "code",
   "execution_count": 8,
   "metadata": {},
   "outputs": [],
   "source": [
    "%matplotlib inline"
   ]
  },
  {
   "cell_type": "code",
   "execution_count": 10,
   "metadata": {},
   "outputs": [],
   "source": [
    "import starry\n",
    "\n",
    "starry.config.lazy = False\n",
    "starry.config.quiet = True"
   ]
  },
  {
   "cell_type": "code",
   "execution_count": 11,
   "metadata": {},
   "outputs": [],
   "source": [
    "def load(map, image):\n",
    "    \"\"\"\n",
    "    Loads an image file into the map.\n",
    "    \n",
    "    \"\"\"\n",
    "    import numpy as np\n",
    "    from PIL import Image\n",
    "    from matplotlib.image import pil_to_array\n",
    "    import os\n",
    "\n",
    "    # If image doesn't exist, check for it in `img` directory\n",
    "    if not os.path.exists(image):\n",
    "        dn = os.path.dirname\n",
    "        image = os.path.join(os.path.dirname(os.path.abspath(starry.__file__)), \"img\", image)\n",
    "        if not image.endswith(\".jpg\"):\n",
    "            image += \".jpg\"\n",
    "        if not os.path.exists(image):\n",
    "            raise ValueError(\"File not found: %s.\" % image)\n",
    "\n",
    "    # Get the image array\n",
    "    grayscale_pil_image = Image.open(image).convert(\"L\")\n",
    "    image_array = pil_to_array(grayscale_pil_image)\n",
    "    image_array = np.array(image_array, dtype=float)\n",
    "    image_array /= 255.0\n",
    "\n",
    "    # Get the image coords\n",
    "    lat = np.linspace(-90, 90, image_array.shape[0])[::-1]\n",
    "    lon = np.linspace(-180, 180, image_array.shape[1])\n",
    "    lon, lat = np.meshgrid(lon, lat)\n",
    "    lat = lat.flatten()\n",
    "    lon = lon.flatten()\n",
    "    \n",
    "    # Solve the linear problem\n",
    "    A = map.intensity_design_matrix(lat, lon)\n",
    "    try:\n",
    "        A = A.eval()\n",
    "    except AttributeError:\n",
    "        pass\n",
    "    y = np.linalg.solve(A.T @ A + 1e-8 * np.eye(map.Ny), A.T @ image_array.flatten())\n",
    "    \n",
    "    # Ingest the coefficients\n",
    "    map._y = map._math.cast(y / y[0])\n",
    "    map.amp = map._math.cast(y[0] * np.pi)"
   ]
  },
  {
   "cell_type": "code",
   "execution_count": 12,
   "metadata": {},
   "outputs": [],
   "source": [
    "map = starry.Map(10)"
   ]
  },
  {
   "cell_type": "code",
   "execution_count": 13,
   "metadata": {},
   "outputs": [
    {
     "ename": "AttributeError",
     "evalue": "'Map' object has no attribute '_math'",
     "output_type": "error",
     "traceback": [
      "\u001b[1;31m---------------------------------------------------------------------------\u001b[0m",
      "\u001b[1;31mAttributeError\u001b[0m                            Traceback (most recent call last)",
      "\u001b[1;32m<ipython-input-13-1498d9b9280c>\u001b[0m in \u001b[0;36m<module>\u001b[1;34m\u001b[0m\n\u001b[1;32m----> 1\u001b[1;33m \u001b[0mload\u001b[0m\u001b[1;33m(\u001b[0m\u001b[0mmap\u001b[0m\u001b[1;33m,\u001b[0m \u001b[1;34m\"earth\"\u001b[0m\u001b[1;33m)\u001b[0m\u001b[1;33m\u001b[0m\u001b[1;33m\u001b[0m\u001b[0m\n\u001b[0m",
      "\u001b[1;32m<ipython-input-11-9f2bcb33d7c3>\u001b[0m in \u001b[0;36mload\u001b[1;34m(map, image)\u001b[0m\n\u001b[0;32m     40\u001b[0m \u001b[1;33m\u001b[0m\u001b[0m\n\u001b[0;32m     41\u001b[0m     \u001b[1;31m# Ingest the coefficients\u001b[0m\u001b[1;33m\u001b[0m\u001b[1;33m\u001b[0m\u001b[1;33m\u001b[0m\u001b[0m\n\u001b[1;32m---> 42\u001b[1;33m     \u001b[0mmap\u001b[0m\u001b[1;33m.\u001b[0m\u001b[0m_y\u001b[0m \u001b[1;33m=\u001b[0m \u001b[0mmap\u001b[0m\u001b[1;33m.\u001b[0m\u001b[0m_math\u001b[0m\u001b[1;33m.\u001b[0m\u001b[0mcast\u001b[0m\u001b[1;33m(\u001b[0m\u001b[0my\u001b[0m \u001b[1;33m/\u001b[0m \u001b[0my\u001b[0m\u001b[1;33m[\u001b[0m\u001b[1;36m0\u001b[0m\u001b[1;33m]\u001b[0m\u001b[1;33m)\u001b[0m\u001b[1;33m\u001b[0m\u001b[1;33m\u001b[0m\u001b[0m\n\u001b[0m\u001b[0;32m     43\u001b[0m     \u001b[0mmap\u001b[0m\u001b[1;33m.\u001b[0m\u001b[0mamp\u001b[0m \u001b[1;33m=\u001b[0m \u001b[0mmap\u001b[0m\u001b[1;33m.\u001b[0m\u001b[0m_math\u001b[0m\u001b[1;33m.\u001b[0m\u001b[0mcast\u001b[0m\u001b[1;33m(\u001b[0m\u001b[0my\u001b[0m\u001b[1;33m[\u001b[0m\u001b[1;36m0\u001b[0m\u001b[1;33m]\u001b[0m \u001b[1;33m*\u001b[0m \u001b[0mnp\u001b[0m\u001b[1;33m.\u001b[0m\u001b[0mpi\u001b[0m\u001b[1;33m)\u001b[0m\u001b[1;33m\u001b[0m\u001b[1;33m\u001b[0m\u001b[0m\n",
      "\u001b[1;31mAttributeError\u001b[0m: 'Map' object has no attribute '_math'"
     ]
    }
   ],
   "source": [
    "load(map, \"earth\")"
   ]
  },
  {
   "cell_type": "code",
   "execution_count": 14,
   "metadata": {},
   "outputs": [
    {
     "data": {
      "image/png": "[encoded data removed]",
      "text/plain": [
       "<Figure size 504x270 with 2 Axes>"
      ]
     },
     "metadata": {
      "needs_background": "light"
     },
     "output_type": "display_data"
    }
   ],
   "source": [
    "map.show(projection=\"rect\", colorbar=True)"
   ]
  },
  {
   "cell_type": "code",
   "execution_count": null,
   "metadata": {},
   "outputs": [],
   "source": []
  }
 ],
 "metadata": {
  "kernelspec": {
   "display_name": "Python 3",
   "language": "python",
   "name": "python3"
  },
  "language_info": {
   "codemirror_mode": {
    "name": "ipython",
    "version": 3
   },
   "file_extension": ".py",
   "mimetype": "text/x-python",
   "name": "python",
   "nbconvert_exporter": "python",
   "pygments_lexer": "ipython3",
   "version": "3.7.3"
  }
 },
 "nbformat": 4,
 "nbformat_minor": 2
}
